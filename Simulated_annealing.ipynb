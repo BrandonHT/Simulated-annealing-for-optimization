{
 "cells": [
  {
   "cell_type": "code",
   "execution_count": 14,
   "id": "e69aa524",
   "metadata": {},
   "outputs": [],
   "source": [
    "import math\n",
    "import numpy as np"
   ]
  },
  {
   "cell_type": "code",
   "execution_count": 15,
   "id": "6b388a80",
   "metadata": {},
   "outputs": [],
   "source": [
    "def annealing_schedule(t):\n",
    "    return 0.9*t"
   ]
  },
  {
   "cell_type": "code",
   "execution_count": 16,
   "id": "318d8d9e",
   "metadata": {},
   "outputs": [],
   "source": [
    "def ackley(a=20, b=0.2, c=2*3.14159):\n",
    "    def ackley_implementation(x):\n",
    "        d = len(x)\n",
    "        return -a*math.exp(-b*math.sqrt(sum(np.power(x, 2)/d))) - math.exp(sum(math.cos(c*xi) for xi in x)/d) + a + math.exp(1)\n",
    "    return ackley_implementation"
   ]
  },
  {
   "cell_type": "code",
   "execution_count": 17,
   "id": "bbe6bdaa",
   "metadata": {},
   "outputs": [],
   "source": [
    "def parabola():\n",
    "    def parabola_x2_1(x):\n",
    "        return sum(np.power(np.subtract(x,1), 2))\n",
    "    return parabola_x2_1"
   ]
  },
  {
   "cell_type": "code",
   "execution_count": 18,
   "id": "0bb12e00",
   "metadata": {},
   "outputs": [],
   "source": [
    "def cos_x2():\n",
    "    def cos_x2_imp(x):\n",
    "        return sum(np.power(x, 2))\n",
    "    return cos_x2_imp"
   ]
  },
  {
   "cell_type": "code",
   "execution_count": 19,
   "id": "15cad7c7",
   "metadata": {},
   "outputs": [],
   "source": [
    "def simulated_annealing(f=ackley, x=10, T=None, t=annealing_schedule, k_max=1000, temp=100):\n",
    "    y = f([x])\n",
    "    x_best, y_best = x, y\n",
    "    for k in range(k_max):\n",
    "        delta_x = np.random.uniform(-2,2)   \n",
    "        x_new = x + delta_x\n",
    "        y_new = f([x_new])\n",
    "        delta_y = y_new - y\n",
    "        temp = annealing_schedule(temp)\n",
    "        selecting = np.random.uniform()\n",
    "        if delta_y <= 0 or selecting < math.exp(-delta_y/temp):\n",
    "            x, y = x_new, y_new\n",
    "        if y_new < y_best:\n",
    "            x_best, y_best = x_new, y_new\n",
    "    return x_best"
   ]
  },
  {
   "cell_type": "code",
   "execution_count": 29,
   "id": "ae7357d7",
   "metadata": {},
   "outputs": [
    {
     "name": "stdout",
     "output_type": "stream",
     "text": [
      "0.9972016691743826\n"
     ]
    }
   ],
   "source": [
    "print(simulated_annealing(\n",
    "    f=parabola(), \n",
    "    x=2, \n",
    "    T=None, \n",
    "    t=annealing_schedule, \n",
    "    k_max=1000, \n",
    "    temp=100)\n",
    ")"
   ]
  },
  {
   "cell_type": "code",
   "execution_count": 32,
   "id": "c46a72b5",
   "metadata": {},
   "outputs": [
    {
     "name": "stdout",
     "output_type": "stream",
     "text": [
      "0.002281527462559829\n"
     ]
    }
   ],
   "source": [
    "print(simulated_annealing(\n",
    "    f=ackley(), \n",
    "    x=2, \n",
    "    T=None, \n",
    "    t=annealing_schedule, \n",
    "    k_max=1000, \n",
    "    temp=100)\n",
    ")"
   ]
  },
  {
   "cell_type": "code",
   "execution_count": 33,
   "id": "c88efc47",
   "metadata": {},
   "outputs": [
    {
     "name": "stdout",
     "output_type": "stream",
     "text": [
      "0.006096329164805514\n"
     ]
    }
   ],
   "source": [
    "print(simulated_annealing(\n",
    "    f=cos_x2(), \n",
    "    x=2, \n",
    "    T=None, \n",
    "    t=annealing_schedule, \n",
    "    k_max=100, \n",
    "    temp=10)\n",
    ")"
   ]
  }
 ],
 "metadata": {
  "kernelspec": {
   "display_name": "Python 3 (ipykernel)",
   "language": "python",
   "name": "python3"
  },
  "language_info": {
   "codemirror_mode": {
    "name": "ipython",
    "version": 3
   },
   "file_extension": ".py",
   "mimetype": "text/x-python",
   "name": "python",
   "nbconvert_exporter": "python",
   "pygments_lexer": "ipython3",
   "version": "3.8.15"
  }
 },
 "nbformat": 4,
 "nbformat_minor": 5
}
